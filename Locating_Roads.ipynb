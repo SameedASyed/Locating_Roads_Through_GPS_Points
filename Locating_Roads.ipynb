{
 "cells": [
  {
   "cell_type": "markdown",
   "metadata": {},
   "source": [
    "# Using Google Maps API to locate nearest road formed by given gps points:"
   ]
  },
  {
   "cell_type": "code",
   "execution_count": 41,
   "metadata": {},
   "outputs": [],
   "source": [
    "# PUT YOUR GOOGLE API KEY HERE:-\n",
    "API_KEY = \"\" # Put your API KEY HERE"
   ]
  },
  {
   "cell_type": "code",
   "execution_count": 42,
   "metadata": {},
   "outputs": [],
   "source": [
    "# LOADING APPROPRIATE MODULES:-\n",
    "import googlemaps\n",
    "import requests\n",
    "import json\n",
    "import polyline\n",
    "import pandas as pd\n",
    "import matplotlib.pyplot as plt"
   ]
  },
  {
   "cell_type": "markdown",
   "metadata": {},
   "source": [
    "## FORMULATING THE PROBLEM:-"
   ]
  },
  {
   "cell_type": "code",
   "execution_count": 43,
   "metadata": {},
   "outputs": [],
   "source": [
    "# SUPPOSE THAT WE HAVE THE FOLLOWING LIST OF POINTS DESCRIBED IN THE FORM (latitude, longitude)\n",
    "# Note: This is the list of raw points that we have. They need not coincide with Google datapoints.\n",
    "# Caution: At most 100 points can be given in this list.\n",
    "points_list = [(57.222008539153045,-2.1972760501882154), (57.21266,-2.2368768), (57.188484168553316,-2.2163043274098717)]"
   ]
  },
  {
   "cell_type": "code",
   "execution_count": 44,
   "metadata": {},
   "outputs": [],
   "source": [
    "# To use this list of points in a google api, we need to convert it into a string of the form: 'latitude,longitude|'\n",
    "\n",
    "\n",
    "#1. We specify some useful functions:-\n",
    "LComma = lambda a : a + ','\n",
    "LPipe = lambda a : a + '|'\n",
    "\n",
    "\n",
    "#2. We make the string we need:-\n",
    "points_string = ''\n",
    "for i in range(len(points_list)):\n",
    "    points_string = points_string + LComma(str(points_list[i][0]))\n",
    "    points_string = points_string + LPipe(str(points_list[i][1]))\n",
    "# In order to correctly pass, this string should not end with the pipe character ('|')\n",
    "# So, I am removing the pipe character:\n",
    "points_string = points_string[0:len(points_string)-1]"
   ]
  },
  {
   "cell_type": "markdown",
   "metadata": {},
   "source": [
    "#### NOW, WE NEED TO USE THESE GIVEN POINTS TO:\n",
    "#### 1. FIND POINTS IN GOOGLE'S DATABASE THAT ARE CLOSEST TO THESE POINTS SO THAT WE CAN GET ADDITIONAL DATA, IF NEEDED.\n",
    "#### 2. FIND POINTS IN GOOGLE'S DATABASE THAT DEFINE CLOSEST ROAD GEOMETRY.\n",
    "#### 3. MAKE A MAP SHOWING THE CLOSEST ROAD GEOMETRY THAT THESE POINTS SPECIFY."
   ]
  },
  {
   "cell_type": "markdown",
   "metadata": {},
   "source": [
    "## 1. FINDING CORRESPONDING POINTS IN GOOGLE'S DATABASE:-\n",
    "### FOR THIS, WE WILL USE 'nearestRoads' API:"
   ]
  },
  {
   "cell_type": "code",
   "execution_count": 45,
   "metadata": {},
   "outputs": [],
   "source": [
    "# Preparing to call the api properly:\n",
    "nearestRoads_web = 'https://roads.googleapis.com/v1/nearestRoads?'\n",
    "nearest_road_url = nearestRoads_web + 'points=' + points_string + '&key=' + API_KEY"
   ]
  },
  {
   "cell_type": "code",
   "execution_count": 46,
   "metadata": {},
   "outputs": [],
   "source": [
    "# CALLING THE API AND GETTING THE CLOSEST POINTS THAT WE NEEDED.\n",
    "\n",
    "payload={}\n",
    "headers = {}\n",
    "\n",
    "response = requests.request(\"GET\", nearest_road_url, headers=headers, data=payload)\n",
    "\n",
    "Closest_Points = json.loads(response.text) # Closest_Points is a json called snappedpoints"
   ]
  },
  {
   "cell_type": "code",
   "execution_count": 47,
   "metadata": {
    "scrolled": true
   },
   "outputs": [
    {
     "data": {
      "text/plain": [
       "[{'location': {'latitude': 57.22222845887919,\n",
       "   'longitude': -2.1974864280603668},\n",
       "  'originalIndex': 0,\n",
       "  'placeId': 'ChIJiwGzDAYThEgRMz_xpWYgQUk'},\n",
       " {'location': {'latitude': 57.21264010234519, 'longitude': -2.236875463712533},\n",
       "  'originalIndex': 1,\n",
       "  'placeId': 'ChIJR-VuF4EThEgRPAQ9DtbjjJo'},\n",
       " {'location': {'latitude': 57.21264010234519, 'longitude': -2.236875463712533},\n",
       "  'originalIndex': 1,\n",
       "  'placeId': 'ChIJR-VuF4EThEgRPQQ9DtbjjJo'},\n",
       " {'location': {'latitude': 57.18843708816072,\n",
       "   'longitude': -2.2162868528701924},\n",
       "  'originalIndex': 2,\n",
       "  'placeId': 'ChIJUzl71usThEgRjiVtdKeDRQg'}]"
      ]
     },
     "execution_count": 47,
     "metadata": {},
     "output_type": "execute_result"
    }
   ],
   "source": [
    "# The points that we had initially, have now been \"snapped\" to the points that are nearest\n",
    "# in the dataset of points that are available on googlemaps.\n",
    "\n",
    "# This is a list of dictionaries in google's database corresponding to our points.\n",
    "Closest_Points_List = Closest_Points[\"snappedPoints\"]\n",
    "Closest_Points_List"
   ]
  },
  {
   "cell_type": "markdown",
   "metadata": {},
   "source": [
    "#### SO NOW, WE HAVE CLOSEST POINTS IN GOOGLE'S DATABASE CORRESPONDING TO THE POINTS THAT WE HAD INITIALLY PASSED.\n",
    "#### WE ALSO HAVE placeId OF THESE POINTS THAT WE CAN USE."
   ]
  },
  {
   "cell_type": "markdown",
   "metadata": {},
   "source": [
    "## 2. FINDING CORRESPONDING ROAD-GEOMETRY IN GOOGLE'S DATABASE:-\n",
    "### FOR THIS, WE WILL USE 'snapToRoads' API:"
   ]
  },
  {
   "cell_type": "code",
   "execution_count": 48,
   "metadata": {},
   "outputs": [],
   "source": [
    "snapToRoads_url = 'https://roads.googleapis.com/v1/snapToRoads?'\n",
    "snapToRoads_details = 'path=' + points_string + '&interpolate=true'\n",
    "snapToRoads_call_url = snapToRoads_url + snapToRoads_details + '&key=' + API_KEY"
   ]
  },
  {
   "cell_type": "code",
   "execution_count": 49,
   "metadata": {},
   "outputs": [],
   "source": [
    "payload={}\n",
    "headers = {}\n",
    "\n",
    "response_2 = requests.request(\"GET\", snapToRoads_call_url, headers=headers, data=payload)\n",
    "\n",
    "Road_Geometry = json.loads(response_2.text) # Road_Geometry is a json snappedpoints"
   ]
  },
  {
   "cell_type": "code",
   "execution_count": 50,
   "metadata": {},
   "outputs": [],
   "source": [
    "Road_Geometry_Details = Road_Geometry[\"snappedPoints\"]\n",
    "# This can be used to access locations and placeids of points that describe the road-geometry"
   ]
  },
  {
   "cell_type": "code",
   "execution_count": 51,
   "metadata": {},
   "outputs": [],
   "source": [
    "# accessing road-geometry-points as a dictionary:-\n",
    "Road_Geometry_Dict = [Road_Geometry_Details[i]['location'] for i in range(len(Road_Geometry_Details))]"
   ]
  },
  {
   "cell_type": "code",
   "execution_count": 52,
   "metadata": {},
   "outputs": [],
   "source": [
    "# accessing road-geometry-points as a list:-\n",
    "Road_Geometry_List = [(Road_Geometry_Details[i]['location']['latitude'], Road_Geometry_Details[i]['location']['longitude'])\n",
    " for i in range(len(Road_Geometry_Details))]"
   ]
  },
  {
   "cell_type": "code",
   "execution_count": 53,
   "metadata": {
    "scrolled": true
   },
   "outputs": [
    {
     "data": {
      "text/html": [
       "<div>\n",
       "<style scoped>\n",
       "    .dataframe tbody tr th:only-of-type {\n",
       "        vertical-align: middle;\n",
       "    }\n",
       "\n",
       "    .dataframe tbody tr th {\n",
       "        vertical-align: top;\n",
       "    }\n",
       "\n",
       "    .dataframe thead th {\n",
       "        text-align: right;\n",
       "    }\n",
       "</style>\n",
       "<table border=\"1\" class=\"dataframe\">\n",
       "  <thead>\n",
       "    <tr style=\"text-align: right;\">\n",
       "      <th></th>\n",
       "      <th>latitude</th>\n",
       "      <th>longitude</th>\n",
       "    </tr>\n",
       "  </thead>\n",
       "  <tbody>\n",
       "    <tr>\n",
       "      <th>0</th>\n",
       "      <td>57.222228</td>\n",
       "      <td>-2.197486</td>\n",
       "    </tr>\n",
       "    <tr>\n",
       "      <th>1</th>\n",
       "      <td>57.212659</td>\n",
       "      <td>-2.236732</td>\n",
       "    </tr>\n",
       "    <tr>\n",
       "      <th>2</th>\n",
       "      <td>57.211255</td>\n",
       "      <td>-2.236760</td>\n",
       "    </tr>\n",
       "    <tr>\n",
       "      <th>3</th>\n",
       "      <td>57.208260</td>\n",
       "      <td>-2.236808</td>\n",
       "    </tr>\n",
       "    <tr>\n",
       "      <th>4</th>\n",
       "      <td>57.207483</td>\n",
       "      <td>-2.236851</td>\n",
       "    </tr>\n",
       "    <tr>\n",
       "      <th>5</th>\n",
       "      <td>57.207010</td>\n",
       "      <td>-2.236866</td>\n",
       "    </tr>\n",
       "    <tr>\n",
       "      <th>6</th>\n",
       "      <td>57.205835</td>\n",
       "      <td>-2.236812</td>\n",
       "    </tr>\n",
       "    <tr>\n",
       "      <th>7</th>\n",
       "      <td>57.205620</td>\n",
       "      <td>-2.236784</td>\n",
       "    </tr>\n",
       "    <tr>\n",
       "      <th>8</th>\n",
       "      <td>57.205019</td>\n",
       "      <td>-2.236737</td>\n",
       "    </tr>\n",
       "    <tr>\n",
       "      <th>9</th>\n",
       "      <td>57.204209</td>\n",
       "      <td>-2.236526</td>\n",
       "    </tr>\n",
       "    <tr>\n",
       "      <th>10</th>\n",
       "      <td>57.203824</td>\n",
       "      <td>-2.236369</td>\n",
       "    </tr>\n",
       "    <tr>\n",
       "      <th>11</th>\n",
       "      <td>57.203356</td>\n",
       "      <td>-2.236128</td>\n",
       "    </tr>\n",
       "    <tr>\n",
       "      <th>12</th>\n",
       "      <td>57.202055</td>\n",
       "      <td>-2.235180</td>\n",
       "    </tr>\n",
       "    <tr>\n",
       "      <th>13</th>\n",
       "      <td>57.201159</td>\n",
       "      <td>-2.234261</td>\n",
       "    </tr>\n",
       "    <tr>\n",
       "      <th>14</th>\n",
       "      <td>57.200633</td>\n",
       "      <td>-2.233556</td>\n",
       "    </tr>\n",
       "    <tr>\n",
       "      <th>15</th>\n",
       "      <td>57.200219</td>\n",
       "      <td>-2.232941</td>\n",
       "    </tr>\n",
       "    <tr>\n",
       "      <th>16</th>\n",
       "      <td>57.199587</td>\n",
       "      <td>-2.231839</td>\n",
       "    </tr>\n",
       "    <tr>\n",
       "      <th>17</th>\n",
       "      <td>57.199243</td>\n",
       "      <td>-2.231152</td>\n",
       "    </tr>\n",
       "    <tr>\n",
       "      <th>18</th>\n",
       "      <td>57.198829</td>\n",
       "      <td>-2.230205</td>\n",
       "    </tr>\n",
       "    <tr>\n",
       "      <th>19</th>\n",
       "      <td>57.198688</td>\n",
       "      <td>-2.229862</td>\n",
       "    </tr>\n",
       "    <tr>\n",
       "      <th>20</th>\n",
       "      <td>57.198319</td>\n",
       "      <td>-2.228875</td>\n",
       "    </tr>\n",
       "    <tr>\n",
       "      <th>21</th>\n",
       "      <td>57.197896</td>\n",
       "      <td>-2.227629</td>\n",
       "    </tr>\n",
       "    <tr>\n",
       "      <th>22</th>\n",
       "      <td>57.197289</td>\n",
       "      <td>-2.225998</td>\n",
       "    </tr>\n",
       "    <tr>\n",
       "      <th>23</th>\n",
       "      <td>57.196793</td>\n",
       "      <td>-2.224853</td>\n",
       "    </tr>\n",
       "    <tr>\n",
       "      <th>24</th>\n",
       "      <td>57.196291</td>\n",
       "      <td>-2.223875</td>\n",
       "    </tr>\n",
       "    <tr>\n",
       "      <th>25</th>\n",
       "      <td>57.195931</td>\n",
       "      <td>-2.223271</td>\n",
       "    </tr>\n",
       "    <tr>\n",
       "      <th>26</th>\n",
       "      <td>57.195675</td>\n",
       "      <td>-2.222870</td>\n",
       "    </tr>\n",
       "    <tr>\n",
       "      <th>27</th>\n",
       "      <td>57.195306</td>\n",
       "      <td>-2.222347</td>\n",
       "    </tr>\n",
       "    <tr>\n",
       "      <th>28</th>\n",
       "      <td>57.194618</td>\n",
       "      <td>-2.221511</td>\n",
       "    </tr>\n",
       "    <tr>\n",
       "      <th>29</th>\n",
       "      <td>57.194341</td>\n",
       "      <td>-2.221225</td>\n",
       "    </tr>\n",
       "    <tr>\n",
       "      <th>30</th>\n",
       "      <td>57.193902</td>\n",
       "      <td>-2.220802</td>\n",
       "    </tr>\n",
       "    <tr>\n",
       "      <th>31</th>\n",
       "      <td>57.193238</td>\n",
       "      <td>-2.220265</td>\n",
       "    </tr>\n",
       "    <tr>\n",
       "      <th>32</th>\n",
       "      <td>57.192996</td>\n",
       "      <td>-2.220094</td>\n",
       "    </tr>\n",
       "    <tr>\n",
       "      <th>33</th>\n",
       "      <td>57.192017</td>\n",
       "      <td>-2.219535</td>\n",
       "    </tr>\n",
       "    <tr>\n",
       "      <th>34</th>\n",
       "      <td>57.191786</td>\n",
       "      <td>-2.219430</td>\n",
       "    </tr>\n",
       "  </tbody>\n",
       "</table>\n",
       "</div>"
      ],
      "text/plain": [
       "     latitude  longitude\n",
       "0   57.222228  -2.197486\n",
       "1   57.212659  -2.236732\n",
       "2   57.211255  -2.236760\n",
       "3   57.208260  -2.236808\n",
       "4   57.207483  -2.236851\n",
       "5   57.207010  -2.236866\n",
       "6   57.205835  -2.236812\n",
       "7   57.205620  -2.236784\n",
       "8   57.205019  -2.236737\n",
       "9   57.204209  -2.236526\n",
       "10  57.203824  -2.236369\n",
       "11  57.203356  -2.236128\n",
       "12  57.202055  -2.235180\n",
       "13  57.201159  -2.234261\n",
       "14  57.200633  -2.233556\n",
       "15  57.200219  -2.232941\n",
       "16  57.199587  -2.231839\n",
       "17  57.199243  -2.231152\n",
       "18  57.198829  -2.230205\n",
       "19  57.198688  -2.229862\n",
       "20  57.198319  -2.228875\n",
       "21  57.197896  -2.227629\n",
       "22  57.197289  -2.225998\n",
       "23  57.196793  -2.224853\n",
       "24  57.196291  -2.223875\n",
       "25  57.195931  -2.223271\n",
       "26  57.195675  -2.222870\n",
       "27  57.195306  -2.222347\n",
       "28  57.194618  -2.221511\n",
       "29  57.194341  -2.221225\n",
       "30  57.193902  -2.220802\n",
       "31  57.193238  -2.220265\n",
       "32  57.192996  -2.220094\n",
       "33  57.192017  -2.219535\n",
       "34  57.191786  -2.219430"
      ]
     },
     "execution_count": 53,
     "metadata": {},
     "output_type": "execute_result"
    }
   ],
   "source": [
    "# MAKING A DATAFRAME OF POINTS DESCRIBING ROAD-GEOMETRY:-\n",
    "Road_Geometry_df = pd.DataFrame(Road_Geometry_Dict)\n",
    "Road_Geometry_df\n",
    "# So, now we have all the points that describe the closest road geometry corresponding to our initial points."
   ]
  },
  {
   "cell_type": "code",
   "execution_count": 54,
   "metadata": {},
   "outputs": [],
   "source": [
    "# THIS CELL IS NOT NEEDED BUT IT IS GOOD TO HAVE IT.\n",
    "# Define the Bounding Box\n",
    "BBox = ((Road_Geometry_df.longitude.min(), Road_Geometry_df.longitude.max(),      \n",
    "         Road_Geometry_df.latitude.min(),  Road_Geometry_df.latitude.max()))\n",
    "# For certain other purposes bounding boxes can be useful"
   ]
  },
  {
   "cell_type": "markdown",
   "metadata": {},
   "source": [
    "## 3. OVERLAYING ROAD-GEOMETRY ON TOP OF A GOOGLEMAP:\n",
    "### FOR THIS, WE WILL USE 'staticmap' API:"
   ]
  },
  {
   "cell_type": "code",
   "execution_count": 55,
   "metadata": {},
   "outputs": [],
   "source": [
    "# To use this list of points in a google api, we need to convert it into a string of the form: 'latitude,longitude|'\n",
    "\n",
    "\n",
    "#1. We specify some useful functions:-\n",
    "LComma = lambda a : a + ','\n",
    "LPipe = lambda a : a + '|'\n",
    "\n",
    "\n",
    "\n",
    "#2. We make the string we need:-\n",
    "Road_Geometry_String = ''\n",
    "for i in range(len(Road_Geometry_List)):\n",
    "    Road_Geometry_String = Road_Geometry_String + LComma(str(Road_Geometry_List[i][0]))\n",
    "    Road_Geometry_String = Road_Geometry_String + LPipe(str(Road_Geometry_List[i][1]))\n",
    "\n",
    "# In order to correctly pass, this string should not end with the pipe character ('|')\n",
    "# So, I am removing the pipe character:\n",
    "Road_Geometry_String = Road_Geometry_String[0:len(Road_Geometry_String)-1]"
   ]
  },
  {
   "cell_type": "code",
   "execution_count": 56,
   "metadata": {},
   "outputs": [],
   "source": [
    "# PARAMETERS OF THE MAP:-\n",
    "# Basic map parameters:-\n",
    "our_map_center= str((Road_Geometry_df.latitude.min() + Road_Geometry_df.latitude.max())/2)+','+str((Road_Geometry_df.longitude.min()+Road_Geometry_df.longitude.max())/2) \n",
    "our_map_zoom= str(11.5) # Adjust zoom level accordingly.\n",
    "our_map_size = str(400)+'x'+str(400)  #Defines the rectangular dimensions of the map image.\n",
    "our_map_scale = str(3) #Proportional to Number of pixels and therefore decides image quality.\n",
    "our_maptype = 'roadmap'  # we can select types from: roadmap, satellite, hybrid, and terrain\n",
    "#Note: For some reason, maptype parameter doesn't change anything.\n",
    "\n",
    "# Stuff we can overlay on the map:-\n",
    "#our_markers= 'size:tiny|color:orange|scale:0.03'+Snapped_Points_On_Road_String \n",
    "our_path= 'color:0x0000ff100|weight:1'+Road_Geometry_String"
   ]
  },
  {
   "cell_type": "code",
   "execution_count": 57,
   "metadata": {},
   "outputs": [],
   "source": [
    "# REQUESTING THE MAP WITH APPROPRIATE FEATURES FROM GOOGLE:-\n",
    "staticmap_url = 'https://maps.googleapis.com/maps/api/staticmap?'\n",
    "\n",
    "staticmap_details = 'center='+our_map_center+'&zoom='+our_map_zoom+'&size='+our_map_size+'&path='+our_path+'&scale='+our_map_scale+'&markers='+points_string\n",
    "\n",
    "staticmap_call_url = staticmap_url+staticmap_details+'&key='+API_KEY\n",
    "\n",
    "# return response object\n",
    "Road_Map = requests.get(staticmap_call_url)"
   ]
  },
  {
   "cell_type": "code",
   "execution_count": 58,
   "metadata": {},
   "outputs": [],
   "source": [
    "# SAVING THE MAP FILE AT SOME SPECIFIED ADDRESS AND WITH SOME SPECIFIED NAME:-\n",
    "\n",
    "# Enter the address of the image you want to create in the format: '/path/imagename.png'\n",
    "map_image_address = './Map_Images/located_road.png'\n",
    "\n",
    "# We are creating the map image file now:\n",
    "Road_Map_File = open(map_image_address, 'wb')# wb mode is stand for write binary mode\n",
    "  \n",
    "# .content gives content, i.e. the image.\n",
    "Road_Map_File.write(Road_Map.content)\n",
    "  \n",
    "# close method of file object\n",
    "# save and close the file\n",
    "Road_Map_File.close()"
   ]
  },
  {
   "cell_type": "code",
   "execution_count": 59,
   "metadata": {
    "scrolled": true
   },
   "outputs": [
    {
     "data": {
      "image/png": "[encoded data removed]",
      "text/plain": [
       "<IPython.core.display.Image object>"
      ]
     },
     "execution_count": 59,
     "metadata": {},
     "output_type": "execute_result"
    }
   ],
   "source": [
    "from IPython.display import Image\n",
    "Image(map_image_address)"
   ]
  }
 ],
 "metadata": {
  "kernelspec": {
   "display_name": "Python 3",
   "language": "python",
   "name": "python3"
  },
  "language_info": {
   "codemirror_mode": {
    "name": "ipython",
    "version": 3
   },
   "file_extension": ".py",
   "mimetype": "text/x-python",
   "name": "python",
   "nbconvert_exporter": "python",
   "pygments_lexer": "ipython3",
   "version": "3.8.5"
  }
 },
 "nbformat": 4,
 "nbformat_minor": 4
}
